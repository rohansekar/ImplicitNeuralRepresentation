{
 "cells": [
  {
   "cell_type": "code",
   "execution_count": 55,
   "metadata": {},
   "outputs": [],
   "source": [
    "import numpy as np\n",
    "import torch\n",
    "import torch.nn as nn\n",
    "from torch.nn import init\n",
    "import torchvision\n",
    "import torch.optim as optim\n",
    "from torch.utils.data import DataLoader\n",
    "import torchvision.transforms.functional as F\n",
    "from torchvision import datasets, transforms\n",
    "import matplotlib.pyplot as plt\n",
    "from SSIM_PIL import compare_ssim\n",
    "from PIL import Image"
   ]
  },
  {
   "cell_type": "code",
   "execution_count": 56,
   "metadata": {},
   "outputs": [
    {
     "name": "stdout",
     "output_type": "stream",
     "text": [
      "(512, 180, 1)\n"
     ]
    }
   ],
   "source": [
    "image1=np.load(r\"C:\\Users\\rohan\\Downloads\\Miniproject (2)\\Miniproject\\data\\radon\\shepp.npy\")\n",
    "print(image1.shape)\n",
    "#image2=np.load(r\"fox.npy\")"
   ]
  },
  {
   "cell_type": "code",
   "execution_count": 57,
   "metadata": {},
   "outputs": [],
   "source": [
    "def radon(image):\n",
    "  store = []\n",
    "  image=image.permute(2,0,1)\n",
    "  for angle in range(180):\n",
    "      rotated_image = torchvision.transforms.functional.rotate(image, angle)\n",
    "      s = torch.sum(rotated_image, 1)\n",
    "      store.append(s)\n",
    "  r = torch.stack(store, 1)\n",
    "  r=r.squeeze(2).permute(2,1,0)\n",
    "  return r"
   ]
  },
  {
   "cell_type": "code",
   "execution_count": 58,
   "metadata": {},
   "outputs": [
    {
     "name": "stdout",
     "output_type": "stream",
     "text": [
      "(512, 180, 1)\n",
      "(262144, 2)\n"
     ]
    }
   ],
   "source": [
    "print(image1.shape)\n",
    "x,y=np.meshgrid(np.linspace(0,1,512),np.linspace(0,1,512))\n",
    "x=x.reshape((512*512),1)\n",
    "y=y.reshape((512*512),1)\n",
    "pixels=np.hstack((x,y))\n",
    "pixels=torch.Tensor(pixels)\n",
    "transforms=torchvision.transforms.ToTensor()\n",
    "image1=transforms(image1)\n",
    "print(pixels.numpy().shape)"
   ]
  },
  {
   "cell_type": "code",
   "execution_count": 59,
   "metadata": {},
   "outputs": [],
   "source": [
    "def psnr(est,gt):\n",
    "    psnr =-20*np.log10(np.linalg.norm((gt-est).reshape(-1))/(np.sqrt(gt.size)*np.max(gt)))\n",
    "    return psnr"
   ]
  },
  {
   "cell_type": "code",
   "execution_count": 60,
   "metadata": {},
   "outputs": [],
   "source": [
    "class Implicit(nn.Module):\n",
    "    def __init__(self):\n",
    "        super(Implicit, self).__init__()\n",
    "        self.linear1=nn.Linear(2,128)\n",
    "        self.relu1=nn.ReLU()\n",
    "        self.linear2=nn.Linear(128,256)\n",
    "        self.linear3=nn.Linear(256,512)\n",
    "        self.linear4=nn.Linear(512,512)\n",
    "        self.linear5=nn.Linear(512,256)\n",
    "        self.linear6=nn.Linear(256,128)\n",
    "        self.linear7=nn.Linear(128,64)\n",
    "        self.linear8=nn.Linear(64,32)\n",
    "        self.linear9=nn.Linear(32,1)\n",
    "        self.a=nn.Sigmoid()\n",
    "    def forward(self,x):\n",
    "        x=self.linear1(x)\n",
    "        x=self.relu1(x)\n",
    "        x=self.linear2(x)\n",
    "        x=self.relu1(x)\n",
    "        x=self.linear3(x)\n",
    "        x=self.relu1(x)\n",
    "        x=self.linear4(x)\n",
    "        x=self.relu1(x)\n",
    "        x=self.linear5(x)\n",
    "        x=self.relu1(x)\n",
    "        x=self.linear6(x)\n",
    "        x=self.relu1(x)\n",
    "        x=self.linear7(x)\n",
    "        x=self.relu1(x)\n",
    "        x=self.linear8(x)\n",
    "        x=self.relu1(x)\n",
    "        x=self.linear9(x)\n",
    "        x=self.a(x)\n",
    "        return x"
   ]
  },
  {
   "cell_type": "code",
   "execution_count": null,
   "metadata": {},
   "outputs": [],
   "source": [
    "implicit=Implicit()\n",
    "criterion = nn.MSELoss() \n",
    "optimizer = torch.optim.Adam(implicit.parameters(),lr = 0.001)\n",
    "n_epochs=50\n",
    "x=pixels\n",
    "train_loss = 0\n",
    "epochtrack=[]\n",
    "psnrtrack=[]\n",
    "simtrack=[]\n",
    "trainlosstrack=[]\n",
    "for epoch in range(n_epochs):\n",
    "    optimizer.zero_grad()\n",
    "    out=implicit(x)\n",
    "    out=out.reshape(1,512,512)\n",
    "    newoutput=radon(out,180,1)\n",
    "    loss=criterion(newoutput,image1)\n",
    "    loss.backward()\n",
    "    optimizer.step()\n",
    "    trainlosstrack.append(loss.item())\n",
    "    print('Epoch: {} \\tTraining Loss: {:.6f}'.format(epoch, loss.item()))\n",
    "    newoutput=newoutput.reshape(512,180)\n",
    "    image1=image1.reshape(512,180)\n",
    "    psnrvalue=psnr(newoutput.detach().numpy(),image1.detach().numpy())\n",
    "    psnrtrack.append(psnrvalue)\n",
    "    value = compare_ssim(Image.fromarray((newoutput.detach().numpy()*255).astype(np.uint8)),Image.fromarray((image1.detach().numpy()*255).astype(np.uint8)))\n",
    "    simtrack.append(value)"
   ]
  },
  {
   "cell_type": "code",
   "execution_count": null,
   "metadata": {},
   "outputs": [],
   "source": [
    "print(trainlosstrack)\n",
    "plt.plot(psnrtrack)\n",
    "plt.title('PSNR vs Epochs')\n",
    "plt.show()\n",
    "plt.plot(simtrack)\n",
    "plt.title('SSIM vs Epochs')\n",
    "plt.show()\n",
    "out=implicit(pixels)\n",
    "plt.imshow(out.reshape(512,512,1).detach().numpy())\n",
    "plt.show()\n",
    "plt.imshow(image1)\n",
    "plt.show()\n",
    "image1=image1.reshape(512*180*1)\n",
    "out=out.reshape(512*180*1)\n",
    "print(out.shape)\n",
    "print(image1.shape)"
   ]
  }
 ],
 "metadata": {
  "kernelspec": {
   "display_name": "Python 3",
   "language": "python",
   "name": "python3"
  },
  "language_info": {
   "codemirror_mode": {
    "name": "ipython",
    "version": 3
   },
   "file_extension": ".py",
   "mimetype": "text/x-python",
   "name": "python",
   "nbconvert_exporter": "python",
   "pygments_lexer": "ipython3",
   "version": "3.10.7"
  },
  "orig_nbformat": 4
 },
 "nbformat": 4,
 "nbformat_minor": 2
}
